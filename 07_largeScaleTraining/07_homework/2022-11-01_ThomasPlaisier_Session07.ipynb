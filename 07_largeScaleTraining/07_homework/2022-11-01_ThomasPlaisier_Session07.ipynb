{
 "cells": [
  {
   "cell_type": "markdown",
   "metadata": {},
   "source": [
    "# Homework Week 07\n",
    "\n",
    "## Thomas Plaisier"
   ]
  },
  {
   "cell_type": "markdown",
   "metadata": {},
   "source": [
    "For homework this week, your job is to do the following:"
   ]
  },
  {
   "cell_type": "markdown",
   "metadata": {},
   "source": [
    "## Make the large-scale MNIST network trainer complete at least 1 epoch."
   ]
  },
  {
   "cell_type": "markdown",
   "metadata": {},
   "source": [
    "After some fixes from Sam and the other people at Argonne, and a final bit of tweaking in the configuration, I was able to get the training working. Below I've copied a summary of the Hydra log for a run with Batch Size set to 512, and Epochs set to 10. The training accuracy at the end of the 10th epoch has increased to almost 60%."
   ]
  },
  {
   "cell_type": "markdown",
   "metadata": {},
   "source": [
    "In a second, more verbose run, I ran the trainer for 5 epochs (batch size 512) and printed the testing/training accuracy on every epoch. Summarized results are printed below. After 5 epochs the testing accuracy is still 0%, but the average training accuracy is steadily increasing to 28% at the end. I'm not entirely sure why the training accuracy within the loop does not match the values printed in the __main__ loop: this suggests that the accuracy varies wildly between workers, since the __main__ accuracy is the average over all while the training loop accuracy is just from worker 0."
   ]
  },
  {
   "cell_type": "code",
   "execution_count": null,
   "metadata": {},
   "outputs": [],
   "source": [
    "[2022-11-04 11:18:45,358][ai4sci.ilsvrc_dataset][INFO] - input filelist contains 1281167 files, estimated batches per rank 312\n",
    "[2022-11-04 11:18:47,548][ai4sci.ilsvrc_dataset][INFO] - input filelist contains 50000 files, estimated batches per rank 12\n",
    "[2022-11-04 11:19:13,588][ai4sci.trainer][INFO] - [0] [0/10: 0 / 160145 (0%)] epoch=0.0000 dt=24.7307 running_loss=0.0000 batch_loss=0.0149 acc=0.0000 batch_acc=0.0020\n",
    "[2022-11-04 11:19:23,279][ai4sci.trainer][INFO] - [0] [0/10: 5120 / 160145 (3%)] epoch=0.0000 dt=0.5744 running_loss=0.0005 batch_loss=0.0137 acc=0.0001 batch_acc=0.0039\n",
    "[2022-11-04 11:19:31,940][ai4sci.trainer][INFO] - [0] [0/10: 10240 / 160145 (6%)] epoch=0.0000 dt=1.0192 running_loss=0.0010 batch_loss=0.0136 acc=0.0001 batch_acc=0.0020\n",
    "[2022-11-04 11:19:40,475][ai4sci.trainer][INFO] - [0] [0/10: 15360 / 160145 (10%)] epoch=0.0000 dt=0.9881 running_loss=0.0014 batch_loss=0.0135 acc=0.0001 batch_acc=0.0000\n",
    "[2022-11-04 11:19:48,917][ai4sci.trainer][INFO] - [0] [0/10: 20480 / 160145 (13%)] epoch=0.0000 dt=0.5904 running_loss=0.0018 batch_loss=0.0135 acc=0.0002 batch_acc=0.0039\n",
    "[2022-11-04 11:19:57,607][ai4sci.trainer][INFO] - [0] [0/10: 25600 / 160145 (16%)] epoch=0.0000 dt=0.5489 running_loss=0.0023 batch_loss=0.0134 acc=0.0002 batch_acc=0.0000\n",
    "[2022-11-04 11:20:06,608][ai4sci.trainer][INFO] - [0] [0/10: 30720 / 160145 (19%)] epoch=0.0000 dt=0.7792 running_loss=0.0027 batch_loss=0.0133 acc=0.0003 batch_acc=0.0039\n",
    "[2022-11-04 11:20:15,092][ai4sci.trainer][INFO] - [0] [0/10: 35840 / 160145 (22%)] epoch=0.0000 dt=0.5953 running_loss=0.0031 batch_loss=0.0133 acc=0.0003 batch_acc=0.0020\n",
    "[2022-11-04 11:20:23,343][ai4sci.trainer][INFO] - [0] [0/10: 40960 / 160145 (26%)] epoch=0.0000 dt=0.5785 running_loss=0.0035 batch_loss=0.0133 acc=0.0004 batch_acc=0.0039\n",
    "[2022-11-04 11:20:32,166][ai4sci.trainer][INFO] - [0] [0/10: 46080 / 160145 (29%)] epoch=0.0000 dt=0.5937 running_loss=0.0040 batch_loss=0.0133 acc=0.0005 batch_acc=0.0020\n",
    "[2022-11-04 11:20:41,993][ai4sci.trainer][INFO] - [0] [0/10: 51200 / 160145 (32%)] epoch=0.0000 dt=0.7688 running_loss=0.0044 batch_loss=0.0132 acc=0.0006 batch_acc=0.0039\n",
    "[2022-11-04 11:20:50,359][ai4sci.trainer][INFO] - [0] [0/10: 56320 / 160145 (35%)] epoch=0.0000 dt=0.7281 running_loss=0.0048 batch_loss=0.0133 acc=0.0008 batch_acc=0.0020\n",
    "[2022-11-04 11:21:01,633][ai4sci.trainer][INFO] - [0] [0/10: 61440 / 160145 (38%)] epoch=0.0000 dt=0.7682 running_loss=0.0052 batch_loss=0.0133 acc=0.0009 batch_acc=0.0039\n",
    "[2022-11-04 11:21:09,898][ai4sci.trainer][INFO] - [0] [0/10: 66560 / 160145 (42%)] epoch=0.0000 dt=1.0176 running_loss=0.0057 batch_loss=0.0130 acc=0.0010 batch_acc=0.0078\n",
    "[2022-11-04 11:21:18,513][ai4sci.trainer][INFO] - [0] [0/10: 71680 / 160145 (45%)] epoch=0.0000 dt=1.0307 running_loss=0.0061 batch_loss=0.0132 acc=0.0011 batch_acc=0.0000\n",
    "[2022-11-04 11:21:27,326][ai4sci.trainer][INFO] - [0] [0/10: 76800 / 160145 (48%)] epoch=0.0000 dt=0.7466 running_loss=0.0065 batch_loss=0.0130 acc=0.0013 batch_acc=0.0039\n",
    "[2022-11-04 11:21:35,892][ai4sci.trainer][INFO] - [0] [0/10: 81920 / 160145 (51%)] epoch=0.0000 dt=0.7083 running_loss=0.0069 batch_loss=0.0129 acc=0.0016 batch_acc=0.0117\n",
    "[2022-11-04 11:21:44,578][ai4sci.trainer][INFO] - [0] [0/10: 87040 / 160145 (54%)] epoch=0.0000 dt=0.8191 running_loss=0.0073 batch_loss=0.0129 acc=0.0017 batch_acc=0.0039\n",
    "[2022-11-04 11:21:53,341][ai4sci.trainer][INFO] - [0] [0/10: 92160 / 160145 (58%)] epoch=0.0000 dt=0.9598 running_loss=0.0077 batch_loss=0.0129 acc=0.0019 batch_acc=0.0039\n",
    "[2022-11-04 11:22:02,012][ai4sci.trainer][INFO] - [0] [0/10: 97280 / 160145 (61%)] epoch=0.0000 dt=1.2745 running_loss=0.0081 batch_loss=0.0128 acc=0.0021 batch_acc=0.0117\n",
    "[2022-11-04 11:22:10,644][ai4sci.trainer][INFO] - [0] [0/10: 102400 / 160145 (64%)] epoch=0.0000 dt=0.8504 running_loss=0.0085 batch_loss=0.0127 acc=0.0023 batch_acc=0.0078\n",
    "[2022-11-04 11:22:19,333][ai4sci.trainer][INFO] - [0] [0/10: 107520 / 160145 (67%)] epoch=0.0000 dt=0.8145 running_loss=0.0090 batch_loss=0.0126 acc=0.0026 batch_acc=0.0039\n",
    "[2022-11-04 11:22:28,585][ai4sci.trainer][INFO] - [0] [0/10: 112640 / 160145 (71%)] epoch=0.0000 dt=1.0520 running_loss=0.0094 batch_loss=0.0127 acc=0.0029 batch_acc=0.0078\n",
    "[2022-11-04 11:22:37,436][ai4sci.trainer][INFO] - [0] [0/10: 117760 / 160145 (74%)] epoch=0.0000 dt=0.7061 running_loss=0.0098 batch_loss=0.0124 acc=0.0032 batch_acc=0.0059\n",
    "[2022-11-04 11:22:45,540][ai4sci.trainer][INFO] - [0] [0/10: 122880 / 160145 (77%)] epoch=0.0000 dt=0.7425 running_loss=0.0102 batch_loss=0.0123 acc=0.0036 batch_acc=0.0137\n",
    "[2022-11-04 11:22:54,292][ai4sci.trainer][INFO] - [0] [0/10: 128000 / 160145 (80%)] epoch=0.0000 dt=0.6081 running_loss=0.0105 batch_loss=0.0122 acc=0.0040 batch_acc=0.0156\n",
    "[2022-11-04 11:23:02,929][ai4sci.trainer][INFO] - [0] [0/10: 133120 / 160145 (83%)] epoch=0.0000 dt=0.5461 running_loss=0.0109 batch_loss=0.0123 acc=0.0045 batch_acc=0.0195\n",
    "[2022-11-04 11:23:11,536][ai4sci.trainer][INFO] - [0] [0/10: 138240 / 160145 (87%)] epoch=0.0000 dt=0.5196 running_loss=0.0113 batch_loss=0.0120 acc=0.0050 batch_acc=0.0156\n",
    "[2022-11-04 11:23:20,003][ai4sci.trainer][INFO] - [0] [0/10: 143360 / 160145 (90%)] epoch=0.0000 dt=0.5144 running_loss=0.0117 batch_loss=0.0119 acc=0.0055 batch_acc=0.0176\n",
    "[2022-11-04 11:23:29,806][ai4sci.trainer][INFO] - [0] [0/10: 148480 / 160145 (93%)] epoch=0.0000 dt=0.6810 running_loss=0.0121 batch_loss=0.0116 acc=0.0062 batch_acc=0.0293\n",
    "[2022-11-04 11:23:39,553][ai4sci.trainer][INFO] - [0] [0/10: 153600 / 160145 (96%)] epoch=0.0000 dt=0.7246 running_loss=0.0125 batch_loss=0.0116 acc=0.0071 batch_acc=0.0215\n",
    "[2022-11-04 11:23:48,127][ai4sci.trainer][INFO] - [0] [0/10: 158720 / 160145 (99%)] epoch=0.0000 dt=0.6916 running_loss=0.0128 batch_loss=0.0112 acc=0.0079 batch_acc=0.0430\n",
    "[2022-11-04 11:23:55,885][__main__][INFO] - -------------------\n",
    "[2022-11-04 11:23:55,886][__main__][INFO] - [TEST] Accuracy: 0%\n",
    "[2022-11-04 11:23:55,886][__main__][INFO] - -------------------\n",
    "[2022-11-04 11:23:55,888][__main__][INFO] - ----------------------------\n",
    "[2022-11-04 11:23:55,888][__main__][INFO] - [TRAIN]  loss=0.0016  acc=0%\n",
    "[2022-11-04 11:23:55,888][__main__][INFO] - ----------------------------\n",
    "(...)\n",
    "[2022-11-04 12:07:51,228][ai4sci.trainer][INFO] - [0] [9/10: 158720 / 160145 (99%)] epoch=9.0000 dt=1.2413 running_loss=0.0033 batch_loss=0.0031 acc=0.5927 batch_acc=0.6270\n",
    "[2022-11-04 12:07:52,993][__main__][INFO] - Total training time: 2949.5571830272675 seconds\n",
    "[2022-11-04 12:07:52,994][__main__][INFO] - Average time per epoch in the last 5: 277.4319076538086\n",
    "[2022-11-04 12:07:52,997][__main__][INFO] - Total training time: 2949.558489084244 seconds\n",
    "[2022-11-04 12:07:52,997][__main__][INFO] - Total training time: 2949.5601015090942 seconds\n",
    "[2022-11-04 12:07:52,997][__main__][INFO] - Average time per epoch in the last 5: 277.43166875839233\n",
    "[2022-11-04 12:07:52,997][__main__][INFO] - Average time per epoch in the last 5: 277.4316475391388\n",
    "[2022-11-04 12:07:52,997][__main__][INFO] - Total training time: 2949.5615792274475 seconds\n",
    "[2022-11-04 12:07:52,997][__main__][INFO] - Total training time: 2949.5601046085358 seconds\n",
    "[2022-11-04 12:07:52,998][__main__][INFO] - Total training time: 2949.5648744106293 seconds\n",
    "[2022-11-04 12:07:52,998][__main__][INFO] - Average time per epoch in the last 5: 277.4333701133728\n",
    "[2022-11-04 12:07:52,998][__main__][INFO] - Average time per epoch in the last 5: 277.43116569519043\n",
    "[2022-11-04 12:07:52,998][__main__][INFO] - Total training time: 2949.566528081894 seconds\n",
    "[2022-11-04 12:07:52,998][__main__][INFO] - Average time per epoch in the last 5: 277.4312014579773\n",
    "[2022-11-04 12:07:52,999][__main__][INFO] - Average time per epoch in the last 5: 277.432049036026\n",
    "[2022-11-04 12:07:52,999][__main__][INFO] - Total training time: 2949.559558868408 seconds\n",
    "[2022-11-04 12:07:53,000][__main__][INFO] - Average time per epoch in the last 5: 277.4313180446625\n"
   ]
  },
  {
   "cell_type": "code",
   "execution_count": null,
   "metadata": {},
   "outputs": [],
   "source": [
    "Epoch 1:\n",
    "[2022-11-04 12:21:49,709][ai4sci.trainer][INFO] - [0] [0/5: 159232 / 160145 (100%)] epoch=0.0000 dt=1.2177 running_loss=0.0132 batch_loss=0.0125 acc=0.0041 batch_acc=0.0059\n",
    "[2022-11-04 12:21:58,826][__main__][INFO] - -------------------\n",
    "[2022-11-04 12:21:58,827][__main__][INFO] - [TEST] Accuracy: 0%\n",
    "[2022-11-04 12:21:58,827][__main__][INFO] - -------------------\n",
    "[2022-11-04 12:21:58,829][__main__][INFO] - ----------------------------\n",
    "[2022-11-04 12:21:58,829][__main__][INFO] - [TRAIN]  loss=0.0017  acc=0%\n",
    "[2022-11-04 12:21:58,829][__main__][INFO] - ----------------------------\n",
    "Epoch 2:\n",
    "[2022-11-04 12:27:48,359][ai4sci.trainer][INFO] - [0] [1/5: 159232 / 160145 (100%)] epoch=1.0000 dt=0.5391 running_loss=0.0109 batch_loss=0.0099 acc=0.0465 batch_acc=0.0801\n",
    "[2022-11-04 12:27:55,117][__main__][INFO] - -------------------\n",
    "[2022-11-04 12:27:55,118][__main__][INFO] - [TEST] Accuracy: 0%\n",
    "[2022-11-04 12:27:55,118][__main__][INFO] - -------------------\n",
    "[2022-11-04 12:27:55,119][__main__][INFO] - ----------------------------\n",
    "[2022-11-04 12:27:55,119][__main__][INFO] - [TRAIN]  loss=0.0014  acc=1%\n",
    "[2022-11-04 12:27:55,119][__main__][INFO] - ----------------------------\n",
    "Epoch 3:\n",
    "[2022-11-04 12:32:35,634][ai4sci.trainer][INFO] - [0] [2/5: 159232 / 160145 (100%)] epoch=2.0000 dt=0.5336 running_loss=0.0090 batch_loss=0.0086 acc=0.1267 batch_acc=0.1426\n",
    "[2022-11-04 12:32:48,170][__main__][INFO] - -------------------\n",
    "[2022-11-04 12:32:48,171][__main__][INFO] - [TEST] Accuracy: 0%\n",
    "[2022-11-04 12:32:48,171][__main__][INFO] - -------------------\n",
    "[2022-11-04 12:32:48,172][__main__][INFO] - ----------------------------\n",
    "[2022-11-04 12:32:48,172][__main__][INFO] - [TRAIN]  loss=0.0011  acc=2%\n",
    "[2022-11-04 12:32:48,172][__main__][INFO] - ----------------------------\n",
    "Epoch 4:\n",
    "[2022-11-04 12:37:19,302][ai4sci.trainer][INFO] - [0] [3/5: 159232 / 160145 (100%)] epoch=3.0000 dt=0.5073 running_loss=0.0077 batch_loss=0.0072 acc=0.2094 batch_acc=0.2871\n",
    "[2022-11-04 12:37:26,126][__main__][INFO] - -------------------\n",
    "[2022-11-04 12:37:26,126][__main__][INFO] - [TEST] Accuracy: 0%\n",
    "[2022-11-04 12:37:26,127][__main__][INFO] - -------------------\n",
    "[2022-11-04 12:37:26,127][__main__][INFO] - ----------------------------\n",
    "[2022-11-04 12:37:26,127][__main__][INFO] - [TRAIN]  loss=0.0010  acc=3%\n",
    "[2022-11-04 12:37:26,127][__main__][INFO] - ----------------------------\n",
    "Epoch 5:\n",
    "[2022-11-04 12:42:05,190][ai4sci.trainer][INFO] - [0] [4/5: 159232 / 160145 (100%)] epoch=4.0000 dt=0.6638 running_loss=0.0066 batch_loss=0.0067 acc=0.2849 batch_acc=0.2578\n",
    "[2022-11-04 12:42:11,360][__main__][INFO] - -------------------\n",
    "[2022-11-04 12:42:11,361][__main__][INFO] - [TEST] Accuracy: 0%\n",
    "[2022-11-04 12:42:11,361][__main__][INFO] - -------------------\n",
    "[2022-11-04 12:42:11,361][__main__][INFO] - ----------------------------\n",
    "[2022-11-04 12:42:11,361][__main__][INFO] - [TRAIN]  loss=0.0008  acc=4%\n",
    "[2022-11-04 12:42:11,361][__main__][INFO] - ----------------------------"
   ]
  }
 ],
 "metadata": {
  "kernelspec": {
   "display_name": "Python 3.8.10 64-bit ('mconda3')",
   "language": "python",
   "name": "python3"
  },
  "language_info": {
   "codemirror_mode": {
    "name": "ipython",
    "version": 3
   },
   "file_extension": ".py",
   "mimetype": "text/x-python",
   "name": "python",
   "nbconvert_exporter": "python",
   "pygments_lexer": "ipython3",
   "version": "3.8.10"
  },
  "orig_nbformat": 4,
  "vscode": {
   "interpreter": {
    "hash": "ac3fec1943ff5b9ab25a41a15ea8714bc35b39a178b31cfcaac1c0eb593ed0fe"
   }
  }
 },
 "nbformat": 4,
 "nbformat_minor": 2
}
