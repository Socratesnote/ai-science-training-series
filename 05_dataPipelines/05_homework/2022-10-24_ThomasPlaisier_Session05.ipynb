{
 "cells": [
  {
   "cell_type": "markdown",
   "metadata": {},
   "source": [
    "# Homework Week 05\n",
    "\n",
    "## Thomas Plaisier"
   ]
  },
  {
   "cell_type": "markdown",
   "metadata": {},
   "source": [
    "For homework this week, your job is to do the following:"
   ]
  },
  {
   "cell_type": "markdown",
   "metadata": {},
   "source": [
    "## Vary the `parallel_threads` and `prefetch_buffer_size` parameters at the top of [train_resnet34.py](train_resnet34.py) and make a table of how the mean image rate changes."
   ]
  },
  {
   "cell_type": "code",
   "execution_count": null,
   "metadata": {},
   "outputs": [],
   "source": [
    "import numpy as np\n",
    "import pandas as pd\n",
    "import re\n",
    "import os"
   ]
  },
  {
   "cell_type": "code",
   "execution_count": null,
   "metadata": {},
   "outputs": [],
   "source": [
    "# Load log file.\n",
    "single_log = \"10111422.output\"\n",
    "\n",
    "file_read = open(single_log, \"r\")\n",
    "\n",
    "lines = file_read.readlines()\n",
    "\n",
    "profile_list = []\n",
    "result_list = []\n",
    "profile_idx = 0\n",
    "result_idx = 0\n",
    "\n",
    "profile_expression = 'Profiling to logdir/m(?P<m>\\d+)_w(?P<w>\\d+)_p(?P<p>\\d+)_.*'\n",
    "profile_object = re.compile(profile_expression)\n",
    "\n",
    "result_expression = 'mean image_s\\s+\\=\\s+(?P<mean>\\w+\\.\\w+),\\s+standard\\s+deviation:\\s+(?P<std>\\w+\\.\\w+)'\n",
    "result_object = re.compile(result_expression)\n",
    "\n",
    "for line in lines:\n",
    "    is_profile = profile_object.search(line)\n",
    "    if is_profile is not None:\n",
    "        m = is_profile.group('m')\n",
    "        w = is_profile.group('w')\n",
    "        p = is_profile.group('p')\n",
    "        profile_list.append([int(m), int(w), int(p)])\n",
    "\n",
    "    is_result = result_object.search(line)\n",
    "    if is_result is not None:\n",
    "        mean = is_result.group('mean')\n",
    "        result_list.append(float(mean))\n",
    "\n",
    "file_read.close()\n",
    "\n",
    "single_table = pd.DataFrame(dtype = float)\n",
    "this_index = 0\n",
    "for this_set in profile_list:\n",
    "    single_table.at[f'T{this_set[0]}', f'B{this_set[2]}'] = result_list[this_index]\n",
    "    this_index += 1"
   ]
  },
  {
   "cell_type": "code",
   "execution_count": null,
   "metadata": {},
   "outputs": [],
   "source": [
    "# Load log file.\n",
    "full_log = \"10111420.output\"\n",
    "\n",
    "file_read = open(single_log, \"r\")\n",
    "\n",
    "lines = file_read.readlines()\n",
    "\n",
    "profile_list = []\n",
    "result_list = []\n",
    "profile_idx = 0\n",
    "result_idx = 0\n",
    "\n",
    "profile_expression = 'Profiling to logdir/m(?P<m>\\d+)_w(?P<w>\\d+)_p(?P<p>\\d+)_.*'\n",
    "profile_object = re.compile(profile_expression)\n",
    "\n",
    "result_expression = 'mean image_s\\s+\\=\\s+(?P<mean>\\w+\\.\\w+),\\s+standard\\s+deviation:\\s+(?P<std>\\w+\\.\\w+)'\n",
    "result_object = re.compile(result_expression)\n",
    "\n",
    "for line in lines:\n",
    "    is_profile = profile_object.search(line)\n",
    "    if is_profile is not None:\n",
    "        m = is_profile.group('m')\n",
    "        w = is_profile.group('w')\n",
    "        p = is_profile.group('p')\n",
    "        profile_list.append([int(m), int(w), int(p)])\n",
    "\n",
    "    is_result = result_object.search(line)\n",
    "    if is_result is not None:\n",
    "        mean = is_result.group('mean')\n",
    "        result_list.append(float(mean))\n",
    "\n",
    "file_read.close()\n",
    "\n",
    "full_table = pd.DataFrame(dtype = float)\n",
    "this_index = 0\n",
    "for this_set in profile_list:\n",
    "    full_table.at[f'T{this_set[0]}', f'B{this_set[2]}'] = result_list[this_index]\n",
    "    this_index += 1"
   ]
  },
  {
   "cell_type": "code",
   "execution_count": null,
   "metadata": {},
   "outputs": [],
   "source": [
    "single_table"
   ]
  },
  {
   "cell_type": "code",
   "execution_count": null,
   "metadata": {},
   "outputs": [],
   "source": [
    "full_table"
   ]
  }
 ],
 "metadata": {
  "kernelspec": {
   "display_name": "Python 3.8.10 64-bit ('mconda3')",
   "language": "python",
   "name": "python3"
  },
  "language_info": {
   "codemirror_mode": {
    "name": "ipython",
    "version": 3
   },
   "file_extension": ".py",
   "mimetype": "text/x-python",
   "name": "python",
   "nbconvert_exporter": "python",
   "pygments_lexer": "ipython3",
   "version": "3.8.10"
  },
  "orig_nbformat": 4,
  "vscode": {
   "interpreter": {
    "hash": "ac3fec1943ff5b9ab25a41a15ea8714bc35b39a178b31cfcaac1c0eb593ed0fe"
   }
  }
 },
 "nbformat": 4,
 "nbformat_minor": 2
}
