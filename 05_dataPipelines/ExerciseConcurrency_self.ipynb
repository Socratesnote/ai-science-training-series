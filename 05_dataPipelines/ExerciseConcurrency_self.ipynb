{
 "cells": [
  {
   "cell_type": "markdown",
   "id": "bfba47c9",
   "metadata": {},
   "source": [
    "# Exercise in Concurrency\n",
    "\n",
    "This is an exercise to help understand the usefulness of concurrency which is very important in supercomputering as we have very large numbers of computers working _concurrently_ on the same problem.\n",
    "\n",
    "Here we'll start with an example of concurrency on a single computer CPU that has many cores.\n",
    "\n",
    "## Loading the needed python modules"
   ]
  },
  {
   "cell_type": "code",
   "execution_count": 19,
   "id": "af72f2cb",
   "metadata": {},
   "outputs": [],
   "source": [
    "import concurrent.futures\n",
    "import numpy as np\n",
    "import json\n",
    "from PIL import Image\n",
    "from itertools import repeat\n",
    "import multiprocessing\n",
    "import time\n",
    "from matplotlib import pyplot as plt"
   ]
  },
  {
   "cell_type": "markdown",
   "id": "6473dfa2",
   "metadata": {},
   "source": [
    "## Retrieve ImageNet JPEG files\n",
    "\n",
    "This is a helper function that returns a python list of image filenames."
   ]
  },
  {
   "cell_type": "code",
   "execution_count": 20,
   "id": "5fb765c5",
   "metadata": {},
   "outputs": [],
   "source": [
    "# This helper function just returns a list of N image file names.\n",
    "def get_image_files(config_file='ilsvrc.json', num_images = 100):\n",
    "   config = json.load(open(config_file))\n",
    "   filelist = config['data']['train_filelist']\n",
    "   \n",
    "   with open(filelist) as myfile:\n",
    "      image_filenames = [next(myfile).strip() for x in range(num_images)]\n",
    "   \n",
    "   return image_filenames"
   ]
  },
  {
   "cell_type": "markdown",
   "id": "9c766640",
   "metadata": {},
   "source": [
    "## Process Images\n",
    "\n",
    "We will imagine we are building a training batch for machine learning using these JPEGs. This would typically require you to\n",
    "1. open the file, \n",
    "2. read the data, \n",
    "3. resize the image to fit your neural network, and\n",
    "4. add it to the list of inputs\n",
    "\n",
    "This function does this for us."
   ]
  },
  {
   "cell_type": "code",
   "execution_count": 21,
   "id": "103c219b",
   "metadata": {},
   "outputs": [],
   "source": [
    "def process_image(image_filename, resize_shape, batch_data, index):\n",
    "   # arguments:\n",
    "   #   image_filename = string giving the full path to the JPEG file to open\n",
    "   #   resize_shape   = a two dimensional tuple defining the image size in our batch, example: (200,100) corresponding to (width,height)\n",
    "   #   batch_data     = the numpy array that will hold our batch of images in a single object with indices: (batch, width, height, channels)\n",
    "   #   index          = a unique batch ID number that corresponds to the first index of our batch array\n",
    "   \n",
    "   # Normally, you would also add randomized transformations such as rotations, brightness changes, etc. to help make the data less dependent on the exact image.\n",
    "\n",
    "   ## PIL is just a useful toolbox for dealing with JPEG images, such as resizing.\n",
    "   # Use the PIL.Image object to open our JPEG.\n",
    "   image = Image.open(image_filename)  # <- PIL.Image Object\n",
    "   \n",
    "   # use the Image.resize function to \n",
    "   image = image.resize(resize_shape)  # <- PIL.Image Object\n",
    "   # convert the image to a numpy array\n",
    "   data = np.asarray(image)            # <- numpy array of shape (width,height,3)\n",
    "\n",
    "   # this is a check:\n",
    "   # some of our JPEGs are black & white, so they have no channel index\n",
    "   # so this little snippet of code adds a channel index if needed\n",
    "   if len(data.shape) == 2:\n",
    "      tmp = np.zeros(data.shape + (3,))\n",
    "      tmp[...,0] = data\n",
    "      data = tmp\n",
    "   \n",
    "   # In order to copy our image, which currently has shape (width,height,3)\n",
    "   #    into the batch data array which has shape (batch_size,width,height,3),\n",
    "   #    we need to add an extra index to our data\n",
    "   data = data[np.newaxis,...]         # <- numpy array of shape (1,width,height,3)\n",
    "   # copy one JPEG image data into our batch of data, at the passed index\n",
    "   batch_data[index,...] = data"
   ]
  },
  {
   "cell_type": "markdown",
   "id": "3850d889",
   "metadata": {},
   "source": [
    "Now we can create a _serial_, AKA a single-core process, that builds a batch of images for our ML training."
   ]
  },
  {
   "cell_type": "code",
   "execution_count": 22,
   "id": "55cdb231",
   "metadata": {},
   "outputs": [
    {
     "name": "stdout",
     "output_type": "stream",
     "text": [
      "duration:     5.79 seconds\n",
      "images per second:   172.60\n"
     ]
    }
   ],
   "source": [
    "# define how many images are in our batch\n",
    "batch_size = 1000\n",
    "# define our resize shape\n",
    "resize_width = 100\n",
    "resize_height = 100\n",
    "resize_shape = (resize_width,resize_height) # Note tuple.\n",
    "# retrieve batch_size worth of JPEG filenames\n",
    "img_files = get_image_files(num_images=batch_size)\n",
    "# create a numpy array that will hold our batch data\n",
    "#     np.zero creates an array of the given shape\n",
    "#     where all entries are set to zero\n",
    "batch_data = np.zeros((batch_size,resize_width,resize_height,3))\n",
    "start_time = time.time()\n",
    "# loop over the image filenames and process each one.\n",
    "for i,imagefile in enumerate(img_files):\n",
    "   process_image(imagefile,resize_shape,batch_data,i)\n",
    "end_time = time.time()\n",
    "duration = end_time - start_time\n",
    "print(f'duration: {duration:8.2f} seconds')\n",
    "image_rate = batch_size / duration\n",
    "print(f'images per second: {image_rate:8.2f}')"
   ]
  },
  {
   "cell_type": "markdown",
   "id": "2e18b558",
   "metadata": {},
   "source": [
    "The code above takes many seconds to execute and only uses 1 CPU-core to build our batch. We can speed this up using parallel threads, where each thread uses a different CPU core on our machine.\n",
    "\n",
    "We can use Python to tell us how many CPU cores we have:"
   ]
  },
  {
   "cell_type": "code",
   "execution_count": 23,
   "id": "72212fa6",
   "metadata": {},
   "outputs": [
    {
     "name": "stdout",
     "output_type": "stream",
     "text": [
      "number of CPU cores on my machine:  32\n"
     ]
    }
   ],
   "source": [
    "print('number of CPU cores on my machine: ',multiprocessing.cpu_count())"
   ]
  },
  {
   "cell_type": "markdown",
   "id": "3bc4cab7",
   "metadata": {},
   "source": [
    "Now we can rewrite the loop above using Python's `ThreadPoolExecutor` module where we specify the number of parallel threads to use and what each thread will execute. The `executor.map()` function runs a function we specify once per thread. We also must provide a list of arguments for each function call. The thread pool ENDS when it runs out of arguments to pass to the function."
   ]
  },
  {
   "cell_type": "code",
   "execution_count": 28,
   "id": "6652df33",
   "metadata": {},
   "outputs": [
    {
     "name": "stdout",
     "output_type": "stream",
     "text": [
      "Number of threads: 1.\n",
      "duration:     6.76 seconds\n",
      "images per second:   148.02\n",
      "images per core per second:   148.02\n",
      "Number of threads: 2.\n",
      "duration:     3.17 seconds\n",
      "images per second:   315.82\n",
      "images per core per second:   157.91\n",
      "Number of threads: 3.\n",
      "duration:     2.15 seconds\n",
      "images per second:   464.39\n",
      "images per core per second:   154.80\n",
      "Number of threads: 4.\n",
      "duration:     1.72 seconds\n",
      "images per second:   582.02\n",
      "images per core per second:   145.50\n",
      "Number of threads: 5.\n",
      "duration:     1.39 seconds\n",
      "images per second:   719.33\n",
      "images per core per second:   143.87\n",
      "Number of threads: 6.\n",
      "duration:     1.15 seconds\n",
      "images per second:   866.37\n",
      "images per core per second:   144.39\n",
      "Number of threads: 7.\n",
      "duration:     1.09 seconds\n",
      "images per second:   916.82\n",
      "images per core per second:   130.97\n",
      "Number of threads: 8.\n",
      "duration:     0.96 seconds\n",
      "images per second:  1043.67\n",
      "images per core per second:   130.46\n",
      "Number of threads: 9.\n",
      "duration:     0.85 seconds\n",
      "images per second:  1180.99\n",
      "images per core per second:   131.22\n",
      "Number of threads: 10.\n",
      "duration:     0.76 seconds\n",
      "images per second:  1311.09\n",
      "images per core per second:   131.11\n",
      "Number of threads: 11.\n",
      "duration:     0.72 seconds\n",
      "images per second:  1390.04\n",
      "images per core per second:   126.37\n",
      "Number of threads: 12.\n",
      "duration:     0.73 seconds\n",
      "images per second:  1368.03\n",
      "images per core per second:   114.00\n",
      "Number of threads: 13.\n",
      "duration:     0.63 seconds\n",
      "images per second:  1585.02\n",
      "images per core per second:   121.92\n",
      "Number of threads: 14.\n",
      "duration:     0.63 seconds\n",
      "images per second:  1580.87\n",
      "images per core per second:   112.92\n",
      "Number of threads: 15.\n",
      "duration:     0.91 seconds\n",
      "images per second:  1103.37\n",
      "images per core per second:    73.56\n",
      "Number of threads: 16.\n",
      "duration:     0.66 seconds\n",
      "images per second:  1519.43\n",
      "images per core per second:    94.96\n",
      "Number of threads: 17.\n",
      "duration:     0.84 seconds\n",
      "images per second:  1192.06\n",
      "images per core per second:    70.12\n",
      "Number of threads: 18.\n",
      "duration:     0.90 seconds\n",
      "images per second:  1113.82\n",
      "images per core per second:    61.88\n",
      "Number of threads: 19.\n",
      "duration:     1.41 seconds\n",
      "images per second:   709.93\n",
      "images per core per second:    37.36\n",
      "Number of threads: 20.\n",
      "duration:     0.74 seconds\n",
      "images per second:  1346.04\n",
      "images per core per second:    67.30\n",
      "Number of threads: 21.\n",
      "duration:     1.58 seconds\n",
      "images per second:   633.16\n",
      "images per core per second:    30.15\n",
      "Number of threads: 22.\n",
      "duration:     1.60 seconds\n",
      "images per second:   626.29\n",
      "images per core per second:    28.47\n",
      "Number of threads: 23.\n",
      "duration:     1.16 seconds\n",
      "images per second:   863.53\n",
      "images per core per second:    37.54\n",
      "Number of threads: 24.\n",
      "duration:     1.11 seconds\n",
      "images per second:   897.55\n",
      "images per core per second:    37.40\n",
      "Number of threads: 25.\n",
      "duration:     1.15 seconds\n",
      "images per second:   872.48\n",
      "images per core per second:    34.90\n",
      "Number of threads: 26.\n",
      "duration:     1.24 seconds\n",
      "images per second:   804.88\n",
      "images per core per second:    30.96\n",
      "Number of threads: 27.\n",
      "duration:     1.11 seconds\n",
      "images per second:   900.10\n",
      "images per core per second:    33.34\n",
      "Number of threads: 28.\n",
      "duration:     1.05 seconds\n",
      "images per second:   951.31\n",
      "images per core per second:    33.98\n",
      "Number of threads: 29.\n",
      "duration:     1.07 seconds\n",
      "images per second:   930.97\n",
      "images per core per second:    32.10\n",
      "Number of threads: 30.\n",
      "duration:     1.07 seconds\n",
      "images per second:   937.93\n",
      "images per core per second:    31.26\n",
      "Number of threads: 31.\n",
      "duration:     1.55 seconds\n",
      "images per second:   645.32\n",
      "images per core per second:    20.82\n",
      "Number of threads: 32.\n",
      "duration:     1.64 seconds\n",
      "images per second:   608.52\n",
      "images per core per second:    19.02\n"
     ]
    }
   ],
   "source": [
    "# NEW: now we need to specify how many parallel threads to run:\n",
    "\n",
    "# all_threads = [1, 2, 4, 8, 16, 24, 32]\n",
    "all_threads = range(1, multiprocessing.cpu_count() + 1)\n",
    "\n",
    "time_history = np.zeros(len(all_threads))\n",
    "imgps_history = np.zeros(len(all_threads))\n",
    "i = 0\n",
    "\n",
    "for num_threads in all_threads:\n",
    "   # num_threads = 4\n",
    "   print(f'Number of threads: {num_threads}.')\n",
    "\n",
    "   # define how many images are in our batch\n",
    "   batch_size = 1000\n",
    "   # define our resize shape\n",
    "   resize_width = 100\n",
    "   resize_height = 100\n",
    "   resize_shape = (resize_width,resize_height)\n",
    "   # retrieve batch_size worth of JPEG filenames\n",
    "   batch_data = get_image_files(num_images=batch_size)\n",
    "   # create a numpy array that will hold our batch data\n",
    "   #     np.zero creates an array of the given shape\n",
    "   #     where all entries are set to zero\n",
    "   new_image = np.zeros((batch_size,resize_width,resize_height,3))\n",
    "\n",
    "   start_time = time.time()\n",
    "\n",
    "   # NEW: this is a fancy way to create this 'executor' object that will launch and manage our parallel threads.\n",
    "   # This TPE will take an argument for max, and will fill workers up to max (but may not, if there's not enough work.)\n",
    "   with concurrent.futures.ThreadPoolExecutor(max_workers=num_threads) as executor:\n",
    "      # map() allows you to use the function handle and apply it to all the image files in the batch. If the executor can fill all the workers with batches, it will do so, and then keep replacing workers with new arguments until it runs out of batch_data to pass to workers.\n",
    "\n",
    "      # Here is where the actual threads are launched\n",
    "      #   we pass the function each thread should call 'process_image'\n",
    "      #   then we pass our input function arguments:\n",
    "      #        batch_data  -> a list of filenames (batch_size long)\n",
    "      #        repeat(resize_shape) -> repeat will provide as many copies of the resize_shape as is needed\n",
    "      #        repeat(new_image) -> repeat will provide as many copies of the new_image as is needed\n",
    "      #        repeat(len(img_files)) -> repeat will provide as many copies of number of files as is needed\n",
    "      results = executor.map(process_image, batch_data, repeat(resize_shape), repeat(new_image), range(len(batch_data)))\n",
    "\n",
    "   end_time = time.time()\n",
    "   duration = end_time - start_time\n",
    "\n",
    "   print(f'duration: {duration:8.2f} seconds')\n",
    "   image_rate = batch_size / duration\n",
    "   print(f'images per second: {image_rate:8.2f}')\n",
    "   print(f'images per core per second: {image_rate/num_threads:8.2f}')\n",
    "\n",
    "   time_history[i] = duration\n",
    "   imgps_history[i] = image_rate\n",
    "   i += 1"
   ]
  },
  {
   "cell_type": "code",
   "execution_count": 29,
   "id": "520bd5dc",
   "metadata": {},
   "outputs": [
    {
     "data": {
      "text/plain": [
       "[<matplotlib.lines.Line2D at 0x7fe0578eb340>]"
      ]
     },
     "execution_count": 29,
     "metadata": {},
     "output_type": "execute_result"
    },
    {
     "data": {
      "image/png": "[encoded data removed]",
      "text/plain": [
       "<Figure size 432x288 with 1 Axes>"
      ]
     },
     "metadata": {
      "needs_background": "light"
     },
     "output_type": "display_data"
    },
    {
     "data": {
      "image/png": "[encoded data removed]",
      "text/plain": [
       "<Figure size 432x288 with 1 Axes>"
      ]
     },
     "metadata": {
      "needs_background": "light"
     },
     "output_type": "display_data"
    }
   ],
   "source": [
    "plt.figure()\n",
    "plt.tight_layout()\n",
    "plt.title('Duration vscores.')\n",
    "plt.xlabel('# Cores')\n",
    "plt.ylabel('Time [s]')\n",
    "plt.plot(all_threads, time_history)\n",
    "\n",
    "plt.figure()\n",
    "plt.tight_layout()\n",
    "plt.title('img/s vs cores.')\n",
    "plt.xlabel('# Cores')\n",
    "plt.ylabel('img/s')\n",
    "plt.plot(all_threads, imgps_history)"
   ]
  },
  {
   "cell_type": "code",
   "execution_count": 26,
   "id": "e0f82800",
   "metadata": {},
   "outputs": [],
   "source": [
    "# you can check the results of each thread using the list of \"results\" returned by the map\n",
    "# though in our case, they should simply be None since our function has no return value\n",
    "for result in results:\n",
    "   if result is not None: print(result)\n"
   ]
  },
  {
   "cell_type": "markdown",
   "id": "640cc644",
   "metadata": {},
   "source": [
    "# Exersize Instructions\n",
    "\n",
    "Play with the value of `num_threads` and note how it affects run time and throughput. How does the return value of `multiprocessing.cpu_count()`, that is, how does the number of CPU cores on your machine impact the throughput you can achieve?"
   ]
  },
  {
   "cell_type": "markdown",
   "id": "c8a8f80f",
   "metadata": {},
   "source": [
    "Number of threads: 1.\n",
    "\n",
    "duration:     5.81 seconds\n",
    "\n",
    "images per second:   172.24\n",
    "\n",
    "images per core per second:   172.24\n",
    "\n",
    "Number of threads: 2.\n",
    "\n",
    "duration:     3.38 seconds\n",
    "\n",
    "images per second:   296.20\n",
    "\n",
    "images per core per second:   148.10\n",
    "\n",
    "Number of threads: 4.\n",
    "\n",
    "duration:     1.71 seconds\n",
    "\n",
    "images per second:   583.90\n",
    "\n",
    "images per core per second:   145.98\n",
    "\n",
    "Number of threads: 8.\n",
    "\n",
    "duration:     0.93 seconds\n",
    "\n",
    "images per second:  1071.34\n",
    "\n",
    "images per core per second:   133.92\n",
    "\n",
    "Number of threads: 16.\n",
    "\n",
    "duration:     0.75 seconds\n",
    "\n",
    "images per second:  1338.53\n",
    "\n",
    "images per core per second:    83.66\n",
    "\n",
    "Number of threads: 24.\n",
    "\n",
    "duration:     1.16 seconds\n",
    "\n",
    "images per second:   865.17\n",
    "\n",
    "images per core per second:    36.05\n",
    "\n",
    "Number of threads: 32.\n",
    "\n",
    "duration:     1.20 seconds\n",
    "\n",
    "images per second:   830.60\n",
    "\n",
    "images per core per second:    25.96\n",
    "\n",
    "\n",
    "\n",
    "So interestingly, the optimal point for this dataset is not to use all available cores: 32 cores perform only marginally better than 4, and worse than 8. For optimal images/core/s, 4 cores is the best. In terms of total throughput, 16 cores is the best."
   ]
  },
  {
   "cell_type": "code",
   "execution_count": null,
   "id": "c3665eb3",
   "metadata": {},
   "outputs": [],
   "source": []
  }
 ],
 "metadata": {
  "kernelspec": {
   "display_name": "Python 3.8.10 64-bit ('mconda3')",
   "language": "python",
   "name": "python3"
  },
  "language_info": {
   "codemirror_mode": {
    "name": "ipython",
    "version": 3
   },
   "file_extension": ".py",
   "mimetype": "text/x-python",
   "name": "python",
   "nbconvert_exporter": "python",
   "pygments_lexer": "ipython3",
   "version": "3.8.10"
  },
  "vscode": {
   "interpreter": {
    "hash": "ac3fec1943ff5b9ab25a41a15ea8714bc35b39a178b31cfcaac1c0eb593ed0fe"
   }
  }
 },
 "nbformat": 4,
 "nbformat_minor": 5
}
