{
 "cells": [
  {
   "cell_type": "markdown",
   "metadata": {},
   "source": [
    "# Homework Week 06\n",
    "\n",
    "## Thomas Plaisier"
   ]
  },
  {
   "cell_type": "markdown",
   "metadata": {},
   "source": [
    "The goal of this homework is to modify a sequential mnist code into a data parallel code with Horovod and test the scaling efficiency\n",
    "\n",
    "Provide the link to your ./homework folder on your personal GitHub repo.\n",
    "\n",
    "    Bonus: The accuracy for large scale training can be improved by using smaller learning rate in the beginning few epochs (warmup epochs). Implement the warmup epochs\n"
   ]
  },
  {
   "cell_type": "markdown",
   "metadata": {},
   "source": [
    "## 50%: Modify the ./homework/tensorflow2_mnist.py to Horovod (save it as \"./homework/tensorflow2_mnist_hvd.py\""
   ]
  },
  {
   "cell_type": "markdown",
   "metadata": {},
   "source": [
    "I modified the example code to run on Horovod: additions are marked with e.g \"### 1.\" and follow the ordering of steps from the lecture."
   ]
  },
  {
   "cell_type": "markdown",
   "metadata": {},
   "source": [
    "## 25%: Run scaling test upto 16 nodes, and check the overall timing."
   ]
  },
  {
   "cell_type": "markdown",
   "metadata": {},
   "source": [
    "Total training time:\n",
    "\n",
    "Nodes       Time\n",
    "1           28.95\n",
    "2           45.80\n",
    "4           41.02\n",
    "8           51.72\n"
   ]
  },
  {
   "cell_type": "markdown",
   "metadata": {},
   "source": [
    "## 25%: Plot the training accuracy and validation accuracy curve for different scales. (x-asix: epoch; y-axis: accuracy) Save your plots as pdf files in the ./homework folder \"accuracy_1.pdf, accuracy_2.pdf, accuracy_4.pdf, accuracy_8.pdf\"."
   ]
  },
  {
   "cell_type": "code",
   "execution_count": 2,
   "metadata": {},
   "outputs": [
    {
     "name": "stdout",
     "output_type": "stream",
     "text": [
      "Saved figure accuracy1.\n",
      "Saved figure accuracy2.\n",
      "Saved figure accuracy4.\n",
      "Saved figure accuracy8.\n"
     ]
    }
   ],
   "source": [
    "import numpy as np\n",
    "import pandas as pd\n",
    "import re\n",
    "import matplotlib.pyplot as plt\n",
    "import os\n",
    "import glob\n",
    "\n",
    "# Load log file.\n",
    "for n in [1, 2, 4, 8]:\n",
    "    this_log = f'mnist_log_n_{n}.log'\n",
    "\n",
    "    file_read = open(this_log, \"r\")\n",
    "\n",
    "    lines = file_read.readlines()\n",
    "\n",
    "    training_accuracy = []\n",
    "    validation_accuracy = []\n",
    "\n",
    "# E[0], train Loss: 0.354682, training Acc: 0.889, val loss: 0.066, val Acc: 0.979\t Time: 5.483 seconds\n",
    "    training_expression = 'training Acc: (?P<t>\\w+\\.\\w+)'\n",
    "    training_object = re.compile(training_expression)\n",
    "\n",
    "    validation_expression = 'val Acc: (?P<v>\\w+\\.\\w+)'\n",
    "    validation_object = re.compile(validation_expression)\n",
    "\n",
    "    for line in lines:\n",
    "        is_training = training_object.search(line)\n",
    "        if is_training is not None:\n",
    "            acc = is_training.group('t')\n",
    "            training_accuracy.append(float(acc))\n",
    "\n",
    "        is_validation = validation_object.search(line)\n",
    "        if is_validation is not None:\n",
    "            acc = is_validation.group('v')\n",
    "            validation_accuracy.append(float(acc))\n",
    "\n",
    "    file_read.close()\n",
    "\n",
    "    # dt_string = datetime.datetime.now().strftime(\"%Y_%m_%d_%H_%M_%S\")\n",
    "    # network_name = network_folder[0:-1]\n",
    "    # Plot.\n",
    "    plt.subplot(211)\n",
    "    plt.plot(training_accuracy, color='blue')\n",
    "    plt.title(f'Cores: {n}')\n",
    "    plt.xlabel(\"Epochs\")\n",
    "    plt.ylabel(\"Training accuracy\")\n",
    "    # plot accuracy\n",
    "    plt.subplot(212)\n",
    "    plt.plot(validation_accuracy, color='red')\n",
    "    plt.title(f'Cores: {n}')\n",
    "    plt.xlabel(\"Epochs\")\n",
    "    plt.ylabel(\"Validation accuracy\")\n",
    "    # save plot to file\n",
    "    plt.savefig(f'accuracy_{n}.pdf')\n",
    "    plt.close()\n",
    "    print(f'Saved figure accuracy{n}.')"
   ]
  },
  {
   "cell_type": "markdown",
   "metadata": {},
   "source": [
    "## Bonus: The accuracy for large scale training can be improved by using smaller learning rate in the beginning few epochs (warmup epochs). Implement the warmup epochs\n"
   ]
  },
  {
   "cell_type": "code",
   "execution_count": null,
   "metadata": {},
   "outputs": [],
   "source": []
  }
 ],
 "metadata": {
  "kernelspec": {
   "display_name": "Python 3.8.10 64-bit",
   "language": "python",
   "name": "python3"
  },
  "language_info": {
   "codemirror_mode": {
    "name": "ipython",
    "version": 3
   },
   "file_extension": ".py",
   "mimetype": "text/x-python",
   "name": "python",
   "nbconvert_exporter": "python",
   "pygments_lexer": "ipython3",
   "version": "3.8.10"
  },
  "orig_nbformat": 4,
  "vscode": {
   "interpreter": {
    "hash": "ac3fec1943ff5b9ab25a41a15ea8714bc35b39a178b31cfcaac1c0eb593ed0fe"
   }
  }
 },
 "nbformat": 4,
 "nbformat_minor": 2
}
