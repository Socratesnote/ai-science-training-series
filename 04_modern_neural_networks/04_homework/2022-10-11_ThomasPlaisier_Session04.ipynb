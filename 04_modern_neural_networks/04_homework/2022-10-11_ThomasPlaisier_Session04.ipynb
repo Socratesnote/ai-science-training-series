{
 "cells": [
  {
   "cell_type": "markdown",
   "metadata": {},
   "source": [
    "# Homework Week 04\n",
    "\n",
    "## Thomas Plaisier"
   ]
  },
  {
   "cell_type": "markdown",
   "metadata": {},
   "source": [
    "For homework this week, your job is to do the following:"
   ]
  },
  {
   "cell_type": "markdown",
   "metadata": {},
   "source": [
    "## 1. Train ResNet34 for 1 epoch.  You are welcome to change parameters like batch size, learning rate, etc. as you like.\n",
    "\n",
    "I modified the code for ResNet34 to store accuracy and loss values on each iteration. I did not modify the layer structure from the given example code, but I did explore the effect of hyperparameters. \n",
    "\n",
    "### Batch size\n",
    "I tried batch sizes 64, 128, 256, 512 and 1024. The largest batch size actually causes an 'Out of Memory' issue. The smaller batch sizes performed comparably, but 256 had the highest training accuracy.\n",
    "\n",
    "### Epochs\n",
    "I ran the model for up to 6 epochs with default batch size and learning rate: with each epoch, the accuracy increased somewhat, finally achieving ~75% training accuracy after the 6th epoch. After a single epoch, training accuracy was ~25%.\n",
    "\n",
    "### Learning rate\n",
    "I ran the model with learning rates 1E-3, 1E-4, and 1E-5. There wasn't much difference between 1E-3 and 1E-4, although 1E-4 achieved slightly higher training accuracy. 1E-5 performed much worse, showing a peak accuracy of 5% in the first epoch and even a decline in accuracy during the final 2000 steps of the first epoch.\n"
   ]
  },
  {
   "cell_type": "markdown",
   "metadata": {},
   "source": [
    "## 2. Make a plot of the training accuracy and loss as a function of iteration.  You can put them on the same plot if you like, but it's not mandatory.\n",
    "\n",
    "I made a plot for the accuracy and loss over 5004 iterations with the following hyperparameters:\n",
    "- Batch size: 256\n",
    "- Learning rate: 1E-4. \n",
    "\n",
    "This generated the following history:\n",
    "\n",
    "<img src=\"2022_10_14_13_58_45_epoch_0_resnet34_bs_256_e_1_lr_0.00010_plot.png\" alt=\"Loss and accuracy history\">\n",
    "\n",
    "Interestingly, the loss starts out relatively high but plateaus within ~15 steps in the epoch. Training accuracy (labeled 'Classification Accuracy' in the graph) steadily increased throughout the first epoch, ending at roughly 30%. The validation accuracy was ~8% at this point. Training the model up to the 6th epoch (not graphed) increased training accuracy to ~75%, and validation accuracy to ~35%."
   ]
  }
 ],
 "metadata": {
  "kernelspec": {
   "display_name": "Python 3.8.10 64-bit ('mconda3')",
   "language": "python",
   "name": "python3"
  },
  "language_info": {
   "name": "python",
   "version": "3.8.10"
  },
  "orig_nbformat": 4,
  "vscode": {
   "interpreter": {
    "hash": "ac3fec1943ff5b9ab25a41a15ea8714bc35b39a178b31cfcaac1c0eb593ed0fe"
   }
  }
 },
 "nbformat": 4,
 "nbformat_minor": 2
}
